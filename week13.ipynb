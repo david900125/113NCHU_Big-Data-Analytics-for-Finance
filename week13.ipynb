{
  "nbformat": 4,
  "nbformat_minor": 0,
  "metadata": {
    "colab": {
      "provenance": [],
      "authorship_tag": "ABX9TyNAZ4/aZxHVw5advSeXjhum",
      "include_colab_link": true
    },
    "kernelspec": {
      "name": "python3",
      "display_name": "Python 3"
    },
    "language_info": {
      "name": "python"
    }
  },
  "cells": [
    {
      "cell_type": "markdown",
      "metadata": {
        "id": "view-in-github",
        "colab_type": "text"
      },
      "source": [
        "<a href=\"https://colab.research.google.com/github/david900125/113NCHU_Big-Data-Analytics-for-Finance/blob/main/week13.ipynb\" target=\"_parent\"><img src=\"https://colab.research.google.com/assets/colab-badge.svg\" alt=\"Open In Colab\"/></a>"
      ]
    },
    {
      "cell_type": "code",
      "source": [
        "url = 'https://anaconda.org/conda-forge/libta-lib/0.4.0/download/linux-64/libta-lib-0.4.0-h166bdaf_1.tar.bz2'\n",
        "!curl -L $url | tar xj -C /usr/lib/x86_64-linux-gnu/ lib --strip-components=1\n",
        "url = 'https://anaconda.org/conda-forge/ta-lib/0.4.19/download/linux-64/ta-lib-0.4.19-py310hde88566_4.tar.bz2'\n",
        "!curl -L $url | tar xj -C /usr/local/lib/python3.10/dist-packages/ lib/python3.10/site-packages/talib --strip-components=3\n",
        "!pip install deap"
      ],
      "metadata": {
        "colab": {
          "base_uri": "https://localhost:8080/"
        },
        "id": "1-U4MhqPi1Wx",
        "outputId": "8e1156a6-2d84-49e4-cf3e-d2deef8261ee"
      },
      "execution_count": 8,
      "outputs": [
        {
          "output_type": "stream",
          "name": "stdout",
          "text": [
            "  % Total    % Received % Xferd  Average Speed   Time    Time     Time  Current\n",
            "                                 Dload  Upload   Total   Spent    Left  Speed\n",
            "100  4139    0  4139    0     0   8939      0 --:--:-- --:--:-- --:--:--  8958\n",
            "100  517k  100  517k    0     0   434k      0  0:00:01  0:00:01 --:--:-- 1048k\n",
            "  % Total    % Received % Xferd  Average Speed   Time    Time     Time  Current\n",
            "                                 Dload  Upload   Total   Spent    Left  Speed\n",
            "100  4123    0  4123    0     0  10332      0 --:--:-- --:--:-- --:--:-- 10333\n",
            "100  392k  100  392k    0     0   371k      0  0:00:01  0:00:01 --:--:--  371k\n",
            "Collecting deap\n",
            "  Downloading deap-1.4.1-cp310-cp310-manylinux_2_5_x86_64.manylinux1_x86_64.manylinux_2_17_x86_64.manylinux2014_x86_64.whl.metadata (13 kB)\n",
            "Requirement already satisfied: numpy in /usr/local/lib/python3.10/dist-packages (from deap) (1.26.4)\n",
            "Downloading deap-1.4.1-cp310-cp310-manylinux_2_5_x86_64.manylinux1_x86_64.manylinux_2_17_x86_64.manylinux2014_x86_64.whl (135 kB)\n",
            "\u001b[2K   \u001b[90m━━━━━━━━━━━━━━━━━━━━━━━━━━━━━━━━━━━━━━━━\u001b[0m \u001b[32m135.4/135.4 kB\u001b[0m \u001b[31m4.8 MB/s\u001b[0m eta \u001b[36m0:00:00\u001b[0m\n",
            "\u001b[?25hInstalling collected packages: deap\n",
            "Successfully installed deap-1.4.1\n"
          ]
        }
      ]
    },
    {
      "cell_type": "code",
      "execution_count": 30,
      "metadata": {
        "colab": {
          "base_uri": "https://localhost:8080/"
        },
        "id": "pPBeBBM7xaT_",
        "outputId": "2429e711-dc2a-44ac-9421-46c1f94c7245"
      },
      "outputs": [
        {
          "output_type": "stream",
          "name": "stderr",
          "text": [
            "[*********************100%***********************]  2 of 2 completed"
          ]
        },
        {
          "output_type": "stream",
          "name": "stdout",
          "text": [
            "Generation 1: Best Fitness = 0.0016674729772544715, Best Chromosome = [1, 1]\n",
            "Generation 2: Best Fitness = 0.0016674729772544715, Best Chromosome = [1, 1]\n",
            "Generation 3: Best Fitness = 0.0016674729772544715, Best Chromosome = [1, 1]\n",
            "Generation 4: Best Fitness = 0.0016674729772544715, Best Chromosome = [1, 1]\n",
            "Generation 5: Best Fitness = 0.0016674729772544715, Best Chromosome = [1, 1]\n",
            "Generation 6: Best Fitness = 0.0016674729772544715, Best Chromosome = [1, 1]\n",
            "Generation 7: Best Fitness = 0.0016674729772544715, Best Chromosome = [1, 1]\n",
            "Generation 8: Best Fitness = 0.0016674729772544715, Best Chromosome = [1, 1]\n",
            "Generation 9: Best Fitness = 0.0016674729772544715, Best Chromosome = [1, 1]\n",
            "Generation 10: Best Fitness = 0.0016674729772544715, Best Chromosome = [1, 1]\n",
            "Generation 11: Best Fitness = 0.0016674729772544715, Best Chromosome = [1, 1]\n",
            "Generation 12: Best Fitness = 0.0016674729772544715, Best Chromosome = [1, 0]\n",
            "Generation 13: Best Fitness = 0.0016674729772544715, Best Chromosome = [1, 0]\n",
            "Generation 14: Best Fitness = 0.0016674729772544715, Best Chromosome = [1, 0]\n",
            "Generation 15: Best Fitness = 0.0016674729772544715, Best Chromosome = [1, 0]\n",
            "Generation 16: Best Fitness = 0.0016674729772544715, Best Chromosome = [0, 0]\n",
            "Generation 17: Best Fitness = 0.0016674729772544715, Best Chromosome = [1, 1]\n",
            "Generation 18: Best Fitness = 0.0016674729772544715, Best Chromosome = [1, 0]\n",
            "Generation 19: Best Fitness = 0.0016674729772544715, Best Chromosome = [1, 1]\n",
            "Generation 20: Best Fitness = 0.0016674729772544715, Best Chromosome = [0, 1]\n",
            "Generation 21: Best Fitness = 0.0016674729772544715, Best Chromosome = [1, 1]\n",
            "Generation 22: Best Fitness = 0.0016674729772544715, Best Chromosome = [1, 1]\n",
            "Generation 23: Best Fitness = 0.0016674729772544715, Best Chromosome = [1, 0]\n",
            "Generation 24: Best Fitness = 0.0016674729772544715, Best Chromosome = [0, 1]\n",
            "Generation 25: Best Fitness = 0.0016674729772544715, Best Chromosome = [1, 1]\n",
            "Generation 26: Best Fitness = 0.0016674729772544715, Best Chromosome = [1, 1]\n",
            "Generation 27: Best Fitness = 0.0016674729772544715, Best Chromosome = [1, 0]\n",
            "Generation 28: Best Fitness = 0.0016674729772544715, Best Chromosome = [1, 0]\n",
            "Generation 29: Best Fitness = 0.0016674729772544715, Best Chromosome = [1, 1]\n",
            "Generation 30: Best Fitness = 0.0016674729772544715, Best Chromosome = [1, 0]\n",
            "Generation 31: Best Fitness = 0.0016674729772544715, Best Chromosome = [1, 1]\n",
            "Generation 32: Best Fitness = 0.0016674729772544715, Best Chromosome = [1, 1]\n",
            "Generation 33: Best Fitness = 0.0016674729772544715, Best Chromosome = [1, 1]\n",
            "Generation 34: Best Fitness = 0.0016674729772544715, Best Chromosome = [1, 1]\n",
            "Generation 35: Best Fitness = 0.0016674729772544715, Best Chromosome = [1, 1]\n",
            "Generation 36: Best Fitness = 0.0016674729772544715, Best Chromosome = [0, 1]\n",
            "Generation 37: Best Fitness = 0.0016674729772544715, Best Chromosome = [1, 0]\n",
            "Generation 38: Best Fitness = 0.0016674729772544715, Best Chromosome = [0, 1]\n",
            "Generation 39: Best Fitness = 0.0016674729772544715, Best Chromosome = [1, 1]\n",
            "Generation 40: Best Fitness = 0.0016674729772544715, Best Chromosome = [1, 1]\n",
            "Generation 41: Best Fitness = 0.0016674729772544715, Best Chromosome = [1, 1]\n",
            "Generation 42: Best Fitness = 0.0016674729772544715, Best Chromosome = [0, 1]\n",
            "Generation 43: Best Fitness = 0.0016674729772544715, Best Chromosome = [1, 0]\n",
            "Generation 44: Best Fitness = 0.0016674729772544715, Best Chromosome = [1, 1]\n",
            "Generation 45: Best Fitness = 0.0016674729772544715, Best Chromosome = [1, 0]\n",
            "Generation 46: Best Fitness = 0.0016674729772544715, Best Chromosome = [1, 1]\n",
            "Generation 47: Best Fitness = 0.0016674729772544715, Best Chromosome = [1, 1]\n",
            "Generation 48: Best Fitness = 0.0016674729772544715, Best Chromosome = [1, 1]\n",
            "Generation 49: Best Fitness = 0.0016674729772544715, Best Chromosome = [1, 0]\n",
            "Generation 50: Best Fitness = 0.0016674729772544715, Best Chromosome = [0, 0]\n",
            "最佳投資組合: [0, 0]\n"
          ]
        },
        {
          "output_type": "stream",
          "name": "stderr",
          "text": [
            "\n"
          ]
        }
      ],
      "source": [
        "import numpy as np\n",
        "import yfinance as yf\n",
        "import random\n",
        "\n",
        "# === 基因演算法參數 ===\n",
        "POPULATION_SIZE = 10  # 族群大小\n",
        "NUM_GENERATIONS = 50  # 最大迭代次數\n",
        "MUTATION_RATE = 0.1   # 突變機率\n",
        "\n",
        "# === 適應函數 ===\n",
        "def calculate_fitness(chromosome, returns, covariance_matrix, w1=1.0, w2=0.5):\n",
        "    x = np.array(chromosome)\n",
        "    portfolio_return = np.dot(x, returns)\n",
        "    portfolio_risk = np.dot(x.T, np.dot(covariance_matrix, x))\n",
        "    fitness = w1 * portfolio_return - w2 * portfolio_risk\n",
        "    return fitness\n",
        "\n",
        "# === 初始化族群 ===\n",
        "def initialize_population(num_stocks, population_size):\n",
        "    return [np.random.choice([0, 1], size=num_stocks).tolist() for _ in range(population_size)]\n",
        "\n",
        "# === 選擇 ===\n",
        "def select(population, fitnesses):\n",
        "    total_fitness = sum(fitnesses)\n",
        "    probabilities = [f / total_fitness for f in fitnesses]\n",
        "    selected_index = np.random.choice(range(len(population)), p=probabilities)\n",
        "    return population[selected_index]\n",
        "\n",
        "# === 交配 ===\n",
        "def crossover(parent1, parent2):\n",
        "    point = random.randint(1, len(parent1) - 1)\n",
        "    child1 = parent1[:point] + parent2[point:]\n",
        "    child2 = parent2[:point] + parent1[point:]\n",
        "    return child1, child2\n",
        "\n",
        "# === 突變 ===\n",
        "def mutate(chromosome, mutation_rate):\n",
        "    return [1 - gene if random.random() < mutation_rate else gene for gene in chromosome]\n",
        "\n",
        "# === 獲取股票數據 ===\n",
        "def get_stock_data(tickers, period=\"1y\"):\n",
        "    data = yf.download(tickers, period=period)['Adj Close']\n",
        "    daily_returns = data.pct_change().dropna()\n",
        "    mean_returns = daily_returns.mean().values\n",
        "    covariance_matrix = daily_returns.cov().values\n",
        "    return mean_returns, covariance_matrix\n",
        "\n",
        "# === 主程式 ===\n",
        "def genetic_algorithm(tickers):\n",
        "    # 獲取實際數據\n",
        "    returns, covariance_matrix = get_stock_data(tickers)\n",
        "    num_stocks = len(tickers)\n",
        "\n",
        "    # 初始化族群\n",
        "    population = initialize_population(num_stocks, POPULATION_SIZE)\n",
        "\n",
        "    for generation in range(NUM_GENERATIONS):\n",
        "        # 計算適應值\n",
        "        fitnesses = [calculate_fitness(chromosome, returns, covariance_matrix) for chromosome in population]\n",
        "\n",
        "        # 新族群\n",
        "        new_population = []\n",
        "\n",
        "        while len(new_population) < POPULATION_SIZE:\n",
        "            # 選擇父代\n",
        "            parent1 = select(population, fitnesses)\n",
        "            parent2 = select(population, fitnesses)\n",
        "\n",
        "            # 交配\n",
        "            child1, child2 = crossover(parent1, parent2)\n",
        "\n",
        "            # 突變\n",
        "            child1 = mutate(child1, MUTATION_RATE)\n",
        "            child2 = mutate(child2, MUTATION_RATE)\n",
        "\n",
        "            # 添加到新族群\n",
        "            new_population.extend([child1, child2])\n",
        "\n",
        "        # 更新族群\n",
        "        population = new_population[:POPULATION_SIZE]\n",
        "\n",
        "        # 最佳染色體輸出\n",
        "        best_fitness = max(fitnesses)\n",
        "        best_chromosome = population[fitnesses.index(best_fitness)]\n",
        "        print(f\"Generation {generation + 1}: Best Fitness = {best_fitness}, Best Chromosome = {best_chromosome}\")\n",
        "\n",
        "    return best_chromosome\n",
        "\n",
        "# === 執行基因演算法 ===\n",
        "tickers = [\"AAPL\", \"MSFT\"]  # 股票代碼\n",
        "best_portfolio = genetic_algorithm(tickers)\n",
        "print(f\"最佳投資組合: {best_portfolio}\")\n"
      ]
    }
  ]
}
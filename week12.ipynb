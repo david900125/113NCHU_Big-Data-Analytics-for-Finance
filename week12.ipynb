{
  "nbformat": 4,
  "nbformat_minor": 0,
  "metadata": {
    "colab": {
      "provenance": [],
      "authorship_tag": "ABX9TyNbMNmi0IfDW+n+EhzOtwv2",
      "include_colab_link": true
    },
    "kernelspec": {
      "name": "python3",
      "display_name": "Python 3"
    },
    "language_info": {
      "name": "python"
    }
  },
  "cells": [
    {
      "cell_type": "markdown",
      "metadata": {
        "id": "view-in-github",
        "colab_type": "text"
      },
      "source": [
        "<a href=\"https://colab.research.google.com/github/david900125/113NCHU_Big-Data-Analytics-for-Finance/blob/main/week12.ipynb\" target=\"_parent\"><img src=\"https://colab.research.google.com/assets/colab-badge.svg\" alt=\"Open In Colab\"/></a>"
      ]
    },
    {
      "cell_type": "code",
      "source": [
        "!pip install google-api-core"
      ],
      "metadata": {
        "colab": {
          "base_uri": "https://localhost:8080/"
        },
        "id": "Z5QTazqbn0ex",
        "outputId": "76b3b953-cff5-46c3-ce62-76ba1e8a499b"
      },
      "execution_count": 11,
      "outputs": [
        {
          "output_type": "stream",
          "name": "stdout",
          "text": [
            "Requirement already satisfied: google-api-core in /usr/local/lib/python3.10/dist-packages (2.19.2)\n",
            "Requirement already satisfied: googleapis-common-protos<2.0.dev0,>=1.56.2 in /usr/local/lib/python3.10/dist-packages (from google-api-core) (1.66.0)\n",
            "Requirement already satisfied: protobuf!=3.20.0,!=3.20.1,!=4.21.0,!=4.21.1,!=4.21.2,!=4.21.3,!=4.21.4,!=4.21.5,<6.0.0.dev0,>=3.19.5 in /usr/local/lib/python3.10/dist-packages (from google-api-core) (4.25.5)\n",
            "Requirement already satisfied: proto-plus<2.0.0dev,>=1.22.3 in /usr/local/lib/python3.10/dist-packages (from google-api-core) (1.25.0)\n",
            "Requirement already satisfied: google-auth<3.0.dev0,>=2.14.1 in /usr/local/lib/python3.10/dist-packages (from google-api-core) (2.27.0)\n",
            "Requirement already satisfied: requests<3.0.0.dev0,>=2.18.0 in /usr/local/lib/python3.10/dist-packages (from google-api-core) (2.32.3)\n",
            "Requirement already satisfied: cachetools<6.0,>=2.0.0 in /usr/local/lib/python3.10/dist-packages (from google-auth<3.0.dev0,>=2.14.1->google-api-core) (5.5.0)\n",
            "Requirement already satisfied: pyasn1-modules>=0.2.1 in /usr/local/lib/python3.10/dist-packages (from google-auth<3.0.dev0,>=2.14.1->google-api-core) (0.4.1)\n",
            "Requirement already satisfied: rsa<5,>=3.1.4 in /usr/local/lib/python3.10/dist-packages (from google-auth<3.0.dev0,>=2.14.1->google-api-core) (4.9)\n",
            "Requirement already satisfied: charset-normalizer<4,>=2 in /usr/local/lib/python3.10/dist-packages (from requests<3.0.0.dev0,>=2.18.0->google-api-core) (3.4.0)\n",
            "Requirement already satisfied: idna<4,>=2.5 in /usr/local/lib/python3.10/dist-packages (from requests<3.0.0.dev0,>=2.18.0->google-api-core) (3.10)\n",
            "Requirement already satisfied: urllib3<3,>=1.21.1 in /usr/local/lib/python3.10/dist-packages (from requests<3.0.0.dev0,>=2.18.0->google-api-core) (2.2.3)\n",
            "Requirement already satisfied: certifi>=2017.4.17 in /usr/local/lib/python3.10/dist-packages (from requests<3.0.0.dev0,>=2.18.0->google-api-core) (2024.8.30)\n",
            "Requirement already satisfied: pyasn1<0.7.0,>=0.4.6 in /usr/local/lib/python3.10/dist-packages (from pyasn1-modules>=0.2.1->google-auth<3.0.dev0,>=2.14.1->google-api-core) (0.6.1)\n"
          ]
        }
      ]
    },
    {
      "cell_type": "code",
      "source": [
        "!pip install ta"
      ],
      "metadata": {
        "colab": {
          "base_uri": "https://localhost:8080/"
        },
        "id": "-9A9cG2VxqhJ",
        "outputId": "b75794ca-6b65-4d51-bcaa-7b990f95ec53"
      },
      "execution_count": 18,
      "outputs": [
        {
          "output_type": "stream",
          "name": "stdout",
          "text": [
            "Collecting ta\n",
            "  Downloading ta-0.11.0.tar.gz (25 kB)\n",
            "  Preparing metadata (setup.py) ... \u001b[?25l\u001b[?25hdone\n",
            "Requirement already satisfied: numpy in /usr/local/lib/python3.10/dist-packages (from ta) (1.26.4)\n",
            "Requirement already satisfied: pandas in /usr/local/lib/python3.10/dist-packages (from ta) (2.2.2)\n",
            "Requirement already satisfied: python-dateutil>=2.8.2 in /usr/local/lib/python3.10/dist-packages (from pandas->ta) (2.8.2)\n",
            "Requirement already satisfied: pytz>=2020.1 in /usr/local/lib/python3.10/dist-packages (from pandas->ta) (2024.2)\n",
            "Requirement already satisfied: tzdata>=2022.7 in /usr/local/lib/python3.10/dist-packages (from pandas->ta) (2024.2)\n",
            "Requirement already satisfied: six>=1.5 in /usr/local/lib/python3.10/dist-packages (from python-dateutil>=2.8.2->pandas->ta) (1.16.0)\n",
            "Building wheels for collected packages: ta\n",
            "  Building wheel for ta (setup.py) ... \u001b[?25l\u001b[?25hdone\n",
            "  Created wheel for ta: filename=ta-0.11.0-py3-none-any.whl size=29412 sha256=1ec60c621b16c14844819a66111b11e70b17f01e8ea397062c4c48c16d4eff14\n",
            "  Stored in directory: /root/.cache/pip/wheels/5f/67/4f/8a9f252836e053e532c6587a3230bc72a4deb16b03a829610b\n",
            "Successfully built ta\n",
            "Installing collected packages: ta\n",
            "Successfully installed ta-0.11.0\n"
          ]
        }
      ]
    },
    {
      "cell_type": "code",
      "source": [
        "import yfinance as yf\n",
        "import pandas as pd\n",
        "import requests\n",
        "import numpy as np\n",
        "from ta.trend import SMAIndicator\n",
        "from ta.momentum import RSIIndicator\n",
        "from datetime import datetime, timedelta\n",
        "import matplotlib.pyplot as plt\n",
        "import google.generativeai as genai\n",
        "\n",
        "genai.configure(api_key=\"\")\n",
        "model = genai.GenerativeModel(\"gemini-1.5-flash\")"
      ],
      "metadata": {
        "id": "L5CkaTdtxt_D"
      },
      "execution_count": 19,
      "outputs": []
    },
    {
      "cell_type": "code",
      "source": [
        "def fetch_three_years_data(stock_symbol):\n",
        "    \"\"\"\n",
        "    獲取過去三年的股票數據。\n",
        "    \"\"\"\n",
        "    end_date = datetime.today().strftime('%Y-%m-%d')\n",
        "    start_date = (datetime.today() - timedelta(days=3*365)).strftime('%Y-%m-%d')\n",
        "\n",
        "    stock = yf.Ticker(stock_symbol)\n",
        "    data = stock.history(start=start_date, end=end_date)\n",
        "    return data\n",
        "\n",
        "def calculate_technical_indicators(data):\n",
        "    \"\"\"\n",
        "    計算技術指標：簡單移動平均線和 RSI。\n",
        "    \"\"\"\n",
        "    sma = SMAIndicator(data['Close'], window=50)\n",
        "    data['SMA_50'] = sma.sma_indicator()\n",
        "\n",
        "    rsi = RSIIndicator(data['Close'])\n",
        "    data['RSI'] = rsi.rsi()\n",
        "\n",
        "    return data\n",
        "\n",
        "\n",
        "def summarize_stock_data(data):\n",
        "    \"\"\"\n",
        "    將股價數據轉換為簡潔的文本描述，供語意分析使用。\n",
        "    \"\"\"\n",
        "    recent_close = data['Close'].iloc[-1]\n",
        "    sma_50 = data['SMA_50'].iloc[-1]\n",
        "    rsi = data['RSI'].iloc[-1]\n",
        "\n",
        "    trend = \"upward\" if data['Close'].iloc[-1] > data['Close'].iloc[-30] else \"downward\"\n",
        "\n",
        "    summary = (\n",
        "        f\"The stock's recent closing price is {recent_close:.2f}. \"\n",
        "        f\"The 50-day simple moving average is {sma_50:.2f}, and the RSI is {rsi:.2f}. \"\n",
        "        f\"The stock has been showing a {trend} trend over the past month.\"\n",
        "    )\n",
        "    return summary\n",
        "\n",
        "def analyze_sentiment_with_stock_data(api_key, news_titles, stock_summary):\n",
        "    # 結合股價數據與新聞\n",
        "    combined_text = stock_summary + \"\\n\\n\" + \"Recent news:\\n\" + \"\\n\".join(news_titles)\n",
        "\n",
        "    response = model.generate_content(f\"{combined_text} Provide financial sentiment analysis and investment recommendations based on the stock data and news provided.\")\n",
        "    return response.text\n",
        "\n",
        "if __name__ == \"__main__\":\n",
        "    # 配置\n",
        "    stock_symbol = \"AAPL\"\n",
        "    recent_news = [\n",
        "        \"Apple announces record earnings for the quarter.\",\n",
        "        \"New iPhone sales exceed expectations.\",\n",
        "        \"Apple faces supply chain challenges amid rising demand.\"\n",
        "    ]\n",
        "\n",
        "    # 獲取三年股價數據\n",
        "    print(\"Fetching historical stock data...\")\n",
        "    stock_data = fetch_three_years_data(stock_symbol)\n",
        "    stock_data = calculate_technical_indicators(stock_data)\n",
        "\n",
        "    # 整理股價數據摘要\n",
        "    stock_summary = summarize_stock_data(stock_data)\n",
        "    print(\"Stock Summary:\\n\", stock_summary)\n",
        "\n",
        "    # 分析情感與生成報告\n",
        "    print(\"Analyzing sentiment and generating report...\")\n",
        "    report = analyze_sentiment_with_stock_data(gemini_api_key, recent_news, stock_summary)\n",
        "\n",
        "    # 顯示報告\n",
        "    print(\"Final Report:\")\n",
        "    print(report)\n"
      ],
      "metadata": {
        "colab": {
          "base_uri": "https://localhost:8080/",
          "height": 645
        },
        "id": "M61ZQP8ApXUe",
        "outputId": "23aefdbd-7aca-429a-efc3-52d355777ede"
      },
      "execution_count": 23,
      "outputs": [
        {
          "output_type": "stream",
          "name": "stdout",
          "text": [
            "Fetching historical stock data...\n",
            "Stock Summary:\n",
            " The stock's recent closing price is 242.65. The 50-day simple moving average is 229.27, and the RSI is 73.03. The stock has been showing a upward trend over the past month.\n",
            "Analyzing sentiment and generating report...\n",
            "Final Report:\n",
            "## Financial Sentiment Analysis and Investment Recommendations for Apple Stock\n",
            "\n",
            "**Data Summary:**\n",
            "\n",
            "* **Closing Price:** $242.65 (relatively high)\n",
            "* **50-Day SMA:** $229.27 (price is above the SMA, indicating bullish momentum)\n",
            "* **RSI:** 73.03 (approaching overbought territory, suggesting potential near-term correction)\n",
            "* **Trend:** Upward over the past month\n",
            "* **News:** Strong earnings, exceeding iPhone sales expectations, but supply chain challenges.\n",
            "\n",
            "**Sentiment Analysis:**\n",
            "\n",
            "The overall sentiment is currently **positive but cautiously optimistic.**  The strong financial results (record earnings and exceeding iPhone sales expectations) are overwhelmingly bullish. This suggests strong underlying fundamentals and investor confidence in Apple's growth.  The upward trend and price above the 50-day SMA reinforce this positive sentiment.\n",
            "\n",
            "However, the RSI of 73.03 is a warning sign.  It indicates the stock is approaching overbought territory, suggesting a potential near-term price correction or consolidation is possible.  The supply chain challenges also introduce a degree of uncertainty. While strong demand is positive,  supply constraints could limit the company's ability to fully capitalize on it in the short term, potentially impacting revenue growth.\n",
            "\n",
            "**Investment Recommendations:**\n",
            "\n",
            "The situation presents a classic case of potentially buying high. While the fundamentals are strong, the high RSI and potential for a correction need to be considered.  Here's a tiered recommendation:\n",
            "\n",
            "\n",
            "* **Conservative Investors:**  Should wait for a pullback.  A drop below the 50-day SMA ($229.27) or a RSI drop below 60 might present a better entry point with reduced risk.  Alternatively, they could consider partial profit taking if they currently hold the stock.\n",
            "\n",
            "* **Moderate Investors:**  Could consider holding the stock, but with a close eye on the price action and news.  They should set stop-loss orders to limit potential losses if the price reverses significantly.  Adding to their position at this price point is not recommended.\n",
            "\n",
            "* **Aggressive Investors:** Could consider buying a small amount of the stock at the current price, acknowledging the risk of a short-term correction.  This approach requires a higher risk tolerance and a belief that the long-term growth potential outweighs the immediate risk.\n",
            "\n",
            "\n",
            "**Disclaimer:** This analysis is based on limited information and should not be considered professional financial advice.  It's crucial to conduct thorough research and consider your individual risk tolerance and investment goals before making any investment decisions. Consult with a qualified financial advisor before acting on this or any investment advice.\n",
            "\n"
          ]
        }
      ]
    }
  ]
}